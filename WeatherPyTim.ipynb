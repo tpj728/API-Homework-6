{
 "cells": [
  {
   "cell_type": "markdown",
   "metadata": {},
   "source": [
    "# WeatherPy\n",
    "----\n",
    "\n",
    "### Analysis\n",
    "* As expected, the weather becomes significantly warmer as one approaches the equator (0 Deg. Latitude). More interestingly, however, is the fact that the southern hemisphere tends to be warmer this time of year than the northern hemisphere. This may be due to the tilt of the earth.\n",
    "* There is no strong relationship between latitude and cloudiness. However, it is interesting to see that a strong band of cities sits at 0, 80, and 100% cloudiness.\n",
    "* There is no strong relationship between latitude and wind speed. However, in northern hemispheres there is a flurry of cities with over 20 mph of wind.\n",
    "\n",
    "---\n",
    "\n",
    "#### Note\n",
    "* Instructions have been included for each segment. You do not have to follow them exactly, but they are included to help you think through the steps."
   ]
  },
  {
   "cell_type": "code",
   "execution_count": 2,
   "metadata": {},
   "outputs": [],
   "source": [
    "# install citipy first from command prompt <pip install citipy"
   ]
  },
  {
   "cell_type": "code",
   "execution_count": 6,
   "metadata": {
    "scrolled": true
   },
   "outputs": [],
   "source": [
    "# Dependencies and Setup\n",
    "import matplotlib.pyplot as plt\n",
    "import pandas as pd\n",
    "import numpy as np\n",
    "import requests\n",
    "import time\n",
    "import random\n",
    "\n",
    "# Import API key\n",
    "from api_keys import api_key\n",
    "\n",
    "# Incorporated citipy to determine city based on latitude and longitude\n",
    "from citipy import citipy\n",
    "\n",
    "# Range of latitudes and longitudes\n",
    "lat_range = (-90, 90)\n",
    "lng_range = (-180, 180)"
   ]
  },
  {
   "cell_type": "code",
   "execution_count": 7,
   "metadata": {},
   "outputs": [],
   "source": [
    "Cities = 500\n",
    "Lat = []\n",
    "Lng = []\n",
    "Citys = []\n",
    "Countries = []"
   ]
  },
  {
   "cell_type": "code",
   "execution_count": 8,
   "metadata": {},
   "outputs": [],
   "source": [
    "for i in range(Cities):\n",
    "    Lat_Coordinate = random.uniform(-90,90)\n",
    "    Lng_Coordinate = random.uniform(-180,180)\n",
    "    Lat.append(Lat_Coordinate)\n",
    "    Lng.append(Lng_Coordinate)\n",
    "    city = citipy.nearest_city(Lat_Coordinate,Lng_Coordinate)\n",
    "    city_name = city.city_name\n",
    "    Citys.append(city_name)\n",
    "    country_name = city.country_code\n",
    "    Countries.append(country_name)"
   ]
  },
  {
   "cell_type": "code",
   "execution_count": 9,
   "metadata": {},
   "outputs": [
    {
     "data": {
      "text/plain": [
       "500"
      ]
     },
     "execution_count": 9,
     "metadata": {},
     "output_type": "execute_result"
    }
   ],
   "source": [
    "len(Countries)"
   ]
  },
  {
   "cell_type": "code",
   "execution_count": 10,
   "metadata": {},
   "outputs": [
    {
     "data": {
      "text/html": [
       "<div>\n",
       "<style scoped>\n",
       "    .dataframe tbody tr th:only-of-type {\n",
       "        vertical-align: middle;\n",
       "    }\n",
       "\n",
       "    .dataframe tbody tr th {\n",
       "        vertical-align: top;\n",
       "    }\n",
       "\n",
       "    .dataframe thead th {\n",
       "        text-align: right;\n",
       "    }\n",
       "</style>\n",
       "<table border=\"1\" class=\"dataframe\">\n",
       "  <thead>\n",
       "    <tr style=\"text-align: right;\">\n",
       "      <th></th>\n",
       "      <th>Lattitude</th>\n",
       "      <th>Longitude</th>\n",
       "      <th>City</th>\n",
       "      <th>Country</th>\n",
       "    </tr>\n",
       "  </thead>\n",
       "  <tbody>\n",
       "    <tr>\n",
       "      <th>0</th>\n",
       "      <td>-62.736510</td>\n",
       "      <td>80.699706</td>\n",
       "      <td>busselton</td>\n",
       "      <td>au</td>\n",
       "    </tr>\n",
       "    <tr>\n",
       "      <th>1</th>\n",
       "      <td>-65.464520</td>\n",
       "      <td>-20.132931</td>\n",
       "      <td>chuy</td>\n",
       "      <td>uy</td>\n",
       "    </tr>\n",
       "    <tr>\n",
       "      <th>2</th>\n",
       "      <td>-22.459359</td>\n",
       "      <td>-172.420119</td>\n",
       "      <td>vaini</td>\n",
       "      <td>to</td>\n",
       "    </tr>\n",
       "    <tr>\n",
       "      <th>3</th>\n",
       "      <td>7.122098</td>\n",
       "      <td>-163.953626</td>\n",
       "      <td>makakilo city</td>\n",
       "      <td>us</td>\n",
       "    </tr>\n",
       "    <tr>\n",
       "      <th>4</th>\n",
       "      <td>61.191414</td>\n",
       "      <td>44.960557</td>\n",
       "      <td>kizema</td>\n",
       "      <td>ru</td>\n",
       "    </tr>\n",
       "  </tbody>\n",
       "</table>\n",
       "</div>"
      ],
      "text/plain": [
       "   Lattitude   Longitude           City Country\n",
       "0 -62.736510   80.699706      busselton      au\n",
       "1 -65.464520  -20.132931           chuy      uy\n",
       "2 -22.459359 -172.420119          vaini      to\n",
       "3   7.122098 -163.953626  makakilo city      us\n",
       "4  61.191414   44.960557         kizema      ru"
      ]
     },
     "execution_count": 10,
     "metadata": {},
     "output_type": "execute_result"
    }
   ],
   "source": [
    "city_df=pd.DataFrame({\n",
    "    \"Lattitude\":Lat,\n",
    "    \"Longitude\":Lng,\n",
    "    \"City\":Citys,\n",
    "    \"Country\":Countries\n",
    "})\n",
    "city_df.head()"
   ]
  },
  {
   "cell_type": "code",
   "execution_count": 11,
   "metadata": {},
   "outputs": [],
   "source": [
    "# Output File (CSV)\n",
    "#output_data_file = \"output_data/cities.csv\""
   ]
  },
  {
   "cell_type": "markdown",
   "metadata": {},
   "source": [
    "## Generate Cities List"
   ]
  },
  {
   "cell_type": "code",
   "execution_count": 12,
   "metadata": {},
   "outputs": [],
   "source": [
    "# # List for holding lat_lngs and cities\n",
    "# lat_lngs = []\n",
    "# cities = []\n",
    "\n",
    "# # Create a set of random lat and lng combinations\n",
    "# lats = np.random.uniform(low=-90.000, high=90.000, size=1500)\n",
    "# lngs = np.random.uniform(low=-180.000, high=180.000, size=1500)\n",
    "# lat_lngs = zip(lats, lngs)\n",
    "\n",
    "# # Identify nearest city for each lat, lng combination\n",
    "# for lat_lng in lat_lngs:\n",
    "#     city = citipy.nearest_city(lat_lng[0], lat_lng[1]).city_name\n",
    "    \n",
    "#     # If the city is unique, then add it to a our cities list\n",
    "#     if city not in cities:\n",
    "#         cities.append(city)\n",
    "\n",
    "# # Print the city count to confirm sufficient count\n",
    "# len(cities)"
   ]
  },
  {
   "cell_type": "code",
   "execution_count": 9,
   "metadata": {},
   "outputs": [
    {
     "data": {
      "text/plain": [
       "(500, 4)"
      ]
     },
     "execution_count": 9,
     "metadata": {},
     "output_type": "execute_result"
    }
   ],
   "source": [
    "city_df.shape"
   ]
  },
  {
   "cell_type": "markdown",
   "metadata": {},
   "source": [
    "### Perform API Calls\n",
    "* Perform a weather check on each city using a series of successive API calls.\n",
    "* Include a print log of each city as it'sbeing processed (with the city number and city name).\n"
   ]
  },
  {
   "cell_type": "code",
   "execution_count": 13,
   "metadata": {},
   "outputs": [
    {
     "name": "stdout",
     "output_type": "stream",
     "text": [
      "http://api.openweathermap.org/data/2.5/weather?appid=253255195ad8c3756e62074699a2a842&units=imperial&q=\n"
     ]
    }
   ],
   "source": [
    "#Config information.\n",
    "url = \"http://api.openweathermap.org/data/2.5/weather?\"\n",
    "units = \"imperial\"\n",
    "\n",
    "#Partial Query URL\n",
    "query_url = f\"{url}appid={api_key}&units={units}&q=\"\n",
    "print(query_url)"
   ]
  },
  {
   "cell_type": "code",
   "execution_count": 14,
   "metadata": {},
   "outputs": [
    {
     "data": {
      "text/plain": [
       "'busselton'"
      ]
     },
     "execution_count": 14,
     "metadata": {},
     "output_type": "execute_result"
    }
   ],
   "source": [
    "city_list = list(city_df['City'])\n",
    "city_list[0]"
   ]
  },
  {
   "cell_type": "code",
   "execution_count": 15,
   "metadata": {},
   "outputs": [
    {
     "data": {
      "text/plain": [
       "{'coord': {'lon': 115.35, 'lat': -33.64},\n",
       " 'weather': [{'id': 804,\n",
       "   'main': 'Clouds',\n",
       "   'description': 'overcast clouds',\n",
       "   'icon': '04n'}],\n",
       " 'base': 'stations',\n",
       " 'main': {'temp': 65.01,\n",
       "  'pressure': 1004,\n",
       "  'humidity': 36,\n",
       "  'temp_min': 60.01,\n",
       "  'temp_max': 69.01},\n",
       " 'wind': {'speed': 7.74, 'deg': 18.502},\n",
       " 'clouds': {'all': 88},\n",
       " 'dt': 1554058552,\n",
       " 'sys': {'type': 3,\n",
       "  'id': 2011706,\n",
       "  'message': 0.0034,\n",
       "  'country': 'AU',\n",
       "  'sunrise': 1554071401,\n",
       "  'sunset': 1554113702},\n",
       " 'id': 2075265,\n",
       " 'name': 'Busselton',\n",
       " 'cod': 200}"
      ]
     },
     "execution_count": 15,
     "metadata": {},
     "output_type": "execute_result"
    }
   ],
   "source": [
    "response = requests.get(query_url + city_list[0]).json()\n",
    "response"
   ]
  },
  {
   "cell_type": "code",
   "execution_count": 16,
   "metadata": {},
   "outputs": [
    {
     "name": "stdout",
     "output_type": "stream",
     "text": [
      "Processing Record 1 of 500| busselton\n",
      "Processing Record 2 of 500| chuy\n",
      "Processing Record 3 of 500| vaini\n",
      "Processing Record 4 of 500| makakilo city\n",
      "Processing Record 5 of 500| kizema\n",
      "Processing Record 6 of 500| hermanus\n",
      "Processing Record 7 of 500| awjilah\n",
      "Processing Record 8 of 500| qasigiannguit\n",
      "Processing Record 9 of 500| lensk\n",
      "Processing Record 10 of 500| bluff\n",
      "Processing Record 11 of 500| punta arenas\n",
      "Processing Record 12 of 500| harnosand\n",
      "Processing Record 13 of 500| coahuayana\n",
      "Processing Record 14 of 500| rungata\n",
      "Processing Record 15 of 500| ushuaia\n",
      "Processing Record 16 of 500| pochutla\n",
      "Processing Record 17 of 500| tiksi\n",
      "Processing Record 18 of 500| arraial do cabo\n",
      "Processing Record 19 of 500| yomitan\n",
      "Processing Record 20 of 500| nizhneyansk\n",
      "Processing Record 21 of 500| lata\n",
      "Processing Record 22 of 500| avarua\n",
      "Processing Record 23 of 500| kyzyl-suu\n",
      "Processing Record 24 of 500| pevek\n",
      "Processing Record 25 of 500| vaitupu\n",
      "Processing Record 26 of 500| upernavik\n",
      "Processing Record 27 of 500| anadyr\n",
      "Processing Record 28 of 500| porbandar\n",
      "Processing Record 29 of 500| terney\n",
      "Processing Record 30 of 500| saint george\n",
      "Processing Record 31 of 500| guider\n",
      "Processing Record 32 of 500| baijiantan\n",
      "Processing Record 33 of 500| mana\n",
      "Processing Record 34 of 500| bluff\n",
      "Processing Record 35 of 500| saint-philippe\n",
      "Processing Record 36 of 500| tomatlan\n",
      "Processing Record 37 of 500| muroto\n",
      "Processing Record 38 of 500| hilo\n",
      "Processing Record 39 of 500| busselton\n",
      "Processing Record 40 of 500| cape town\n",
      "Processing Record 41 of 500| olinda\n",
      "Processing Record 42 of 500| bengkulu\n",
      "Processing Record 43 of 500| kyren\n",
      "Processing Record 44 of 500| khatanga\n",
      "Processing Record 45 of 500| bredasdorp\n",
      "Processing Record 46 of 500| arraial do cabo\n",
      "Processing Record 47 of 500| grindavik\n",
      "Processing Record 48 of 500| vostok\n",
      "Processing Record 49 of 500| albany\n",
      "Processing Record 50 of 500| nikolskoye\n",
      "Processing Record 51 of 500| andenes\n",
      "Processing Record 52 of 500| rikitea\n",
      "Processing Record 53 of 500| vila franca do campo\n",
      "Processing Record 54 of 500| kyabe\n",
      "Processing Record 55 of 500| boa vista\n",
      "Processing Record 56 of 500| shelburne\n",
      "Processing Record 57 of 500| udachnyy\n",
      "Processing Record 58 of 500| saleaula\n",
      "Processing Record 59 of 500| busselton\n",
      "Processing Record 60 of 500| saint-philippe\n",
      "Processing Record 61 of 500| sentyabrskiy\n",
      "Processing Record 62 of 500| hobart\n",
      "Processing Record 63 of 500| esperance\n",
      "Processing Record 64 of 500| coquimbo\n",
      "Processing Record 65 of 500| sao gabriel da cachoeira\n",
      "Processing Record 66 of 500| east london\n",
      "Processing Record 67 of 500| port alfred\n",
      "Processing Record 68 of 500| albany\n",
      "Processing Record 69 of 500| tasiilaq\n",
      "Processing Record 70 of 500| rikitea\n",
      "Processing Record 71 of 500| jamestown\n",
      "Processing Record 72 of 500| punta arenas\n",
      "Processing Record 73 of 500| hermanus\n",
      "Processing Record 74 of 500| punta arenas\n",
      "Processing Record 75 of 500| kupang\n",
      "Processing Record 76 of 500| vulcan\n",
      "Processing Record 77 of 500| sao filipe\n",
      "Processing Record 78 of 500| port lincoln\n",
      "Processing Record 79 of 500| sidi ali\n",
      "Processing Record 80 of 500| rikitea\n",
      "Processing Record 81 of 500| busselton\n",
      "Processing Record 82 of 500| takapau\n",
      "Processing Record 83 of 500| vorontsovka\n",
      "Processing Record 84 of 500| upernavik\n",
      "Processing Record 85 of 500| marsh harbour\n",
      "Processing Record 86 of 500| punta arenas\n",
      "Processing Record 87 of 500| port alfred\n",
      "Processing Record 88 of 500| punta arenas\n",
      "Processing Record 89 of 500| soconusco\n",
      "Processing Record 90 of 500| ushuaia\n",
      "Processing Record 91 of 500| qaanaaq\n",
      "Processing Record 92 of 500| puerto ayora\n",
      "Processing Record 93 of 500| miracema do tocantins\n",
      "Processing Record 94 of 500| sumbawa\n",
      "Processing Record 95 of 500| attawapiskat\n",
      "Processing Record 96 of 500| bengkulu\n",
      "Processing Record 97 of 500| sao filipe\n",
      "Processing Record 98 of 500| punta arenas\n",
      "Processing Record 99 of 500| port alfred\n",
      "Processing Record 100 of 500| mataura\n",
      "Processing Record 101 of 500| dzilam gonzalez\n",
      "Processing Record 102 of 500| vaini\n",
      "Processing Record 103 of 500| te anau\n",
      "Processing Record 104 of 500| carnarvon\n",
      "Processing Record 105 of 500| nicoya\n",
      "Processing Record 106 of 500| haines junction\n",
      "Processing Record 107 of 500| saint-philippe\n",
      "Processing Record 108 of 500| ngukurr\n",
      "Processing Record 109 of 500| cape town\n",
      "Processing Record 110 of 500| giyani\n",
      "Processing Record 111 of 500| ketchikan\n",
      "Processing Record 112 of 500| hermanus\n",
      "Processing Record 113 of 500| atar\n",
      "Processing Record 114 of 500| geraldton\n",
      "Processing Record 115 of 500| caxito\n",
      "Processing Record 116 of 500| avarua\n",
      "Processing Record 117 of 500| harbour breton\n",
      "Processing Record 118 of 500| carnarvon\n",
      "Processing Record 119 of 500| ngawi\n",
      "Processing Record 120 of 500| cidreira\n",
      "Processing Record 121 of 500| sibenik\n",
      "Processing Record 122 of 500| hermanus\n",
      "Processing Record 123 of 500| yellowknife\n",
      "Processing Record 124 of 500| tuktoyaktuk\n",
      "Processing Record 125 of 500| hermanus\n",
      "Processing Record 126 of 500| mayo\n",
      "Processing Record 127 of 500| merauke\n",
      "Processing Record 128 of 500| maine-soroa\n",
      "Processing Record 129 of 500| butaritari\n",
      "Processing Record 130 of 500| komsomolskiy\n",
      "Processing Record 131 of 500| sorong\n",
      "Processing Record 132 of 500| amderma\n",
      "Processing Record 133 of 500| tuktoyaktuk\n",
      "Processing Record 134 of 500| busselton\n",
      "Processing Record 135 of 500| rikitea\n",
      "Processing Record 136 of 500| illoqqortoormiut\n",
      "Processing Record 137 of 500| rikitea\n",
      "Processing Record 138 of 500| saint george\n",
      "Processing Record 139 of 500| constitucion\n",
      "Processing Record 140 of 500| torbay\n",
      "Processing Record 141 of 500| tuktoyaktuk\n",
      "Processing Record 142 of 500| arraial do cabo\n",
      "Processing Record 143 of 500| busselton\n",
      "Processing Record 144 of 500| puerto ayora\n",
      "Processing Record 145 of 500| carnarvon\n",
      "Processing Record 146 of 500| baturaja\n",
      "Processing Record 147 of 500| kaduna\n",
      "Processing Record 148 of 500| tsihombe\n",
      "Processing Record 149 of 500| mitsamiouli\n",
      "Processing Record 150 of 500| romny\n",
      "Processing Record 151 of 500| adrar\n",
      "Processing Record 152 of 500| tuktoyaktuk\n",
      "Processing Record 153 of 500| west bay\n",
      "Processing Record 154 of 500| conde\n",
      "Processing Record 155 of 500| tromso\n",
      "Processing Record 156 of 500| vaitupu\n",
      "Processing Record 157 of 500| ushuaia\n",
      "Processing Record 158 of 500| deputatskiy\n",
      "Processing Record 159 of 500| byumba\n",
      "Processing Record 160 of 500| saskylakh\n",
      "Processing Record 161 of 500| zeya\n",
      "Processing Record 162 of 500| ancud\n",
      "Processing Record 163 of 500| ribeira grande\n",
      "Processing Record 164 of 500| rikitea\n",
      "Processing Record 165 of 500| hirara\n",
      "Processing Record 166 of 500| hasaki\n",
      "Processing Record 167 of 500| tasiilaq\n",
      "Processing Record 168 of 500| la ronge\n",
      "Processing Record 169 of 500| taolanaro\n",
      "Processing Record 170 of 500| longyearbyen\n",
      "Processing Record 171 of 500| punta arenas\n",
      "Processing Record 172 of 500| usinsk\n",
      "Processing Record 173 of 500| kassala\n",
      "Processing Record 174 of 500| pionerskiy\n",
      "Processing Record 175 of 500| vardo\n",
      "Processing Record 176 of 500| auki\n",
      "Processing Record 177 of 500| porto novo\n",
      "Processing Record 178 of 500| bengkulu\n",
      "Processing Record 179 of 500| ushuaia\n",
      "Processing Record 180 of 500| mataura\n",
      "Processing Record 181 of 500| nizhneyansk\n",
      "Processing Record 182 of 500| lambarene\n",
      "Processing Record 183 of 500| kruisfontein\n",
      "Processing Record 184 of 500| barrow\n",
      "Processing Record 185 of 500| acapulco\n",
      "Processing Record 186 of 500| noyabrsk\n",
      "Processing Record 187 of 500| lorengau\n",
      "Processing Record 188 of 500| puerto escondido\n",
      "Processing Record 189 of 500| falealupo\n",
      "Processing Record 190 of 500| atuona\n",
      "Processing Record 191 of 500| mason city\n",
      "Processing Record 192 of 500| dolbeau\n",
      "Processing Record 193 of 500| louisbourg\n",
      "Processing Record 194 of 500| cape town\n",
      "Processing Record 195 of 500| chokurdakh\n",
      "Processing Record 196 of 500| maarianhamina\n",
      "Processing Record 197 of 500| namibe\n",
      "Processing Record 198 of 500| longview\n",
      "Processing Record 199 of 500| amderma\n",
      "Processing Record 200 of 500| cape town\n",
      "Processing Record 201 of 500| tumannyy\n",
      "Processing Record 202 of 500| tasiilaq\n",
      "Processing Record 203 of 500| maunabo\n",
      "Processing Record 204 of 500| albany\n",
      "Processing Record 205 of 500| mataura\n",
      "Processing Record 206 of 500| rawannawi\n",
      "Processing Record 207 of 500| tuktoyaktuk\n",
      "Processing Record 208 of 500| kruisfontein\n",
      "Processing Record 209 of 500| altay\n"
     ]
    },
    {
     "name": "stdout",
     "output_type": "stream",
     "text": [
      "Processing Record 210 of 500| vaitupu\n",
      "Processing Record 211 of 500| puquio\n",
      "Processing Record 212 of 500| along\n",
      "Processing Record 213 of 500| charters towers\n",
      "Processing Record 214 of 500| puerto ayora\n",
      "Processing Record 215 of 500| punta arenas\n",
      "Processing Record 216 of 500| saleaula\n",
      "Processing Record 217 of 500| half moon bay\n",
      "Processing Record 218 of 500| rikitea\n",
      "Processing Record 219 of 500| ancud\n",
      "Processing Record 220 of 500| grand river south east\n",
      "Processing Record 221 of 500| srednekolymsk\n",
      "Processing Record 222 of 500| nome\n",
      "Processing Record 223 of 500| ayan\n",
      "Processing Record 224 of 500| tuktoyaktuk\n",
      "Processing Record 225 of 500| georgiyevka\n",
      "Processing Record 226 of 500| mataura\n",
      "Processing Record 227 of 500| klaksvik\n",
      "Processing Record 228 of 500| paamiut\n",
      "Processing Record 229 of 500| darnah\n",
      "Processing Record 230 of 500| taolanaro\n",
      "Processing Record 231 of 500| khatanga\n",
      "Processing Record 232 of 500| jamestown\n",
      "Processing Record 233 of 500| tsihombe\n",
      "Processing Record 234 of 500| fort nelson\n",
      "Processing Record 235 of 500| menongue\n",
      "Processing Record 236 of 500| fairbanks\n",
      "Processing Record 237 of 500| ola\n",
      "Processing Record 238 of 500| rikitea\n",
      "Processing Record 239 of 500| rocha\n",
      "Processing Record 240 of 500| tuggurt\n",
      "Processing Record 241 of 500| puerto ayora\n",
      "Processing Record 242 of 500| khatanga\n",
      "Processing Record 243 of 500| arraial do cabo\n",
      "Processing Record 244 of 500| busselton\n",
      "Processing Record 245 of 500| vostok\n",
      "Processing Record 246 of 500| mataura\n",
      "Processing Record 247 of 500| tlacotepec\n",
      "Processing Record 248 of 500| saleaula\n",
      "Processing Record 249 of 500| castro\n",
      "Processing Record 250 of 500| kaeo\n",
      "Processing Record 251 of 500| saint-philippe\n",
      "Processing Record 252 of 500| shakawe\n",
      "Processing Record 253 of 500| albany\n",
      "Processing Record 254 of 500| cherskiy\n",
      "Processing Record 255 of 500| rikitea\n",
      "Processing Record 256 of 500| ushuaia\n",
      "Processing Record 257 of 500| barrow\n",
      "Processing Record 258 of 500| hermanus\n",
      "Processing Record 259 of 500| magadan\n",
      "Processing Record 260 of 500| camacha\n",
      "Processing Record 261 of 500| bilma\n",
      "Processing Record 262 of 500| ostrovnoy\n",
      "Processing Record 263 of 500| nizhneyansk\n",
      "Processing Record 264 of 500| port alfred\n",
      "Processing Record 265 of 500| hobart\n",
      "Processing Record 266 of 500| mataura\n",
      "Processing Record 267 of 500| tuktoyaktuk\n",
      "Processing Record 268 of 500| busselton\n",
      "Processing Record 269 of 500| yanan\n",
      "Processing Record 270 of 500| cherskiy\n",
      "Processing Record 271 of 500| mar del plata\n",
      "Processing Record 272 of 500| vostok\n",
      "Processing Record 273 of 500| fredericton\n",
      "Processing Record 274 of 500| atuona\n",
      "Processing Record 275 of 500| keetmanshoop\n",
      "Processing Record 276 of 500| atuona\n",
      "Processing Record 277 of 500| lachi\n",
      "Processing Record 278 of 500| puerto ayora\n",
      "Processing Record 279 of 500| pangnirtung\n",
      "Processing Record 280 of 500| bose\n",
      "Processing Record 281 of 500| bredasdorp\n",
      "Processing Record 282 of 500| satun\n",
      "Processing Record 283 of 500| anadyr\n",
      "Processing Record 284 of 500| saint-philippe\n",
      "Processing Record 285 of 500| tiksi\n",
      "Processing Record 286 of 500| los llanos de aridane\n",
      "Processing Record 287 of 500| satitoa\n",
      "Processing Record 288 of 500| ambilobe\n",
      "Processing Record 289 of 500| busselton\n",
      "Processing Record 290 of 500| east london\n",
      "Processing Record 291 of 500| ushuaia\n",
      "Processing Record 292 of 500| jamestown\n",
      "Processing Record 293 of 500| grand gaube\n",
      "Processing Record 294 of 500| punta arenas\n",
      "Processing Record 295 of 500| tuktoyaktuk\n",
      "Processing Record 296 of 500| pandan\n",
      "Processing Record 297 of 500| sinnamary\n",
      "Processing Record 298 of 500| nadym\n",
      "Processing Record 299 of 500| louisbourg\n",
      "Processing Record 300 of 500| tiksi\n",
      "Processing Record 301 of 500| charters towers\n",
      "Processing Record 302 of 500| viligili\n",
      "Processing Record 303 of 500| beneditinos\n",
      "Processing Record 304 of 500| tarudant\n",
      "Processing Record 305 of 500| puerto ayora\n",
      "Processing Record 306 of 500| tilichiki\n",
      "Processing Record 307 of 500| klaksvik\n",
      "Processing Record 308 of 500| hilo\n",
      "Processing Record 309 of 500| ribeira grande\n",
      "Processing Record 310 of 500| hobart\n",
      "Processing Record 311 of 500| san cristobal\n",
      "Processing Record 312 of 500| illoqqortoormiut\n",
      "Processing Record 313 of 500| ushuaia\n",
      "Processing Record 314 of 500| adrar\n",
      "Processing Record 315 of 500| punta arenas\n",
      "Processing Record 316 of 500| busselton\n",
      "Processing Record 317 of 500| kamenskoye\n",
      "Processing Record 318 of 500| mahajanga\n",
      "Processing Record 319 of 500| dayal bagh\n",
      "Processing Record 320 of 500| arraial do cabo\n",
      "Processing Record 321 of 500| taolanaro\n",
      "Processing Record 322 of 500| hobart\n",
      "Processing Record 323 of 500| cape town\n",
      "Processing Record 324 of 500| mar del plata\n",
      "Processing Record 325 of 500| albany\n",
      "Processing Record 326 of 500| sikonge\n",
      "Processing Record 327 of 500| xinqing\n",
      "Processing Record 328 of 500| port alfred\n",
      "Processing Record 329 of 500| mar del plata\n",
      "Processing Record 330 of 500| salalah\n",
      "Processing Record 331 of 500| taolanaro\n",
      "Processing Record 332 of 500| ilulissat\n",
      "Processing Record 333 of 500| puerto ayora\n",
      "Processing Record 334 of 500| mitsamiouli\n",
      "Processing Record 335 of 500| bredasdorp\n",
      "Processing Record 336 of 500| oussouye\n",
      "Processing Record 337 of 500| rikitea\n",
      "Processing Record 338 of 500| ushuaia\n",
      "Processing Record 339 of 500| barrow\n",
      "Processing Record 340 of 500| barentsburg\n",
      "Processing Record 341 of 500| port alfred\n",
      "Processing Record 342 of 500| bluff\n",
      "Processing Record 343 of 500| saint-augustin\n",
      "Processing Record 344 of 500| fortuna\n",
      "Processing Record 345 of 500| oussouye\n",
      "Processing Record 346 of 500| puerto ayora\n",
      "Processing Record 347 of 500| verkhnevilyuysk\n",
      "Processing Record 348 of 500| chuy\n",
      "Processing Record 349 of 500| butaritari\n",
      "Processing Record 350 of 500| bredasdorp\n",
      "Processing Record 351 of 500| port alfred\n",
      "Processing Record 352 of 500| kalomo\n",
      "Processing Record 353 of 500| barrow\n",
      "Processing Record 354 of 500| hilo\n",
      "Processing Record 355 of 500| butaritari\n",
      "Processing Record 356 of 500| general roca\n",
      "Processing Record 357 of 500| ushuaia\n",
      "Processing Record 358 of 500| puerto ayora\n",
      "Processing Record 359 of 500| bacolod\n",
      "Processing Record 360 of 500| constitucion\n",
      "Processing Record 361 of 500| gambela\n",
      "Processing Record 362 of 500| busselton\n",
      "Processing Record 363 of 500| mayo\n",
      "Processing Record 364 of 500| mataura\n",
      "Processing Record 365 of 500| butaritari\n",
      "Processing Record 366 of 500| oyem\n",
      "Processing Record 367 of 500| vanimo\n",
      "Processing Record 368 of 500| inta\n",
      "Processing Record 369 of 500| albany\n",
      "Processing Record 370 of 500| kaoma\n",
      "Processing Record 371 of 500| atuona\n",
      "Processing Record 372 of 500| santo tomas\n",
      "Processing Record 373 of 500| atuona\n",
      "Processing Record 374 of 500| thompson\n",
      "Processing Record 375 of 500| ardmore\n",
      "Processing Record 376 of 500| tasiilaq\n",
      "Processing Record 377 of 500| rikitea\n",
      "Processing Record 378 of 500| faanui\n",
      "Processing Record 379 of 500| hobart\n",
      "Processing Record 380 of 500| bluff\n",
      "Processing Record 381 of 500| port hardy\n",
      "Processing Record 382 of 500| mahebourg\n",
      "Processing Record 383 of 500| castro\n",
      "Processing Record 384 of 500| bengkulu\n",
      "Processing Record 385 of 500| mataura\n",
      "Processing Record 386 of 500| rikitea\n",
      "Processing Record 387 of 500| mamallapuram\n",
      "Processing Record 388 of 500| jamestown\n",
      "Processing Record 389 of 500| atuona\n",
      "Processing Record 390 of 500| illoqqortoormiut\n",
      "Processing Record 391 of 500| kaitangata\n",
      "Processing Record 392 of 500| amderma\n",
      "Processing Record 393 of 500| oktyabrskiy\n",
      "Processing Record 394 of 500| mys shmidta\n",
      "Processing Record 395 of 500| port alfred\n",
      "Processing Record 396 of 500| copparo\n",
      "Processing Record 397 of 500| ushuaia\n",
      "Processing Record 398 of 500| kodiak\n",
      "Processing Record 399 of 500| atuona\n",
      "Processing Record 400 of 500| rikitea\n",
      "Processing Record 401 of 500| saint george\n",
      "Processing Record 402 of 500| mataura\n",
      "Processing Record 403 of 500| mataura\n",
      "Processing Record 404 of 500| qaanaaq\n",
      "Processing Record 405 of 500| blairmore\n",
      "Processing Record 406 of 500| idrinskoye\n",
      "Processing Record 407 of 500| rikitea\n",
      "Processing Record 408 of 500| saint george\n",
      "Processing Record 409 of 500| mar del plata\n",
      "Processing Record 410 of 500| arraial do cabo\n",
      "Processing Record 411 of 500| khowst\n",
      "Processing Record 412 of 500| mataura\n",
      "Processing Record 413 of 500| point fortin\n",
      "Processing Record 414 of 500| rikitea\n",
      "Processing Record 415 of 500| chokwe\n",
      "Processing Record 416 of 500| christchurch\n"
     ]
    },
    {
     "name": "stdout",
     "output_type": "stream",
     "text": [
      "Processing Record 417 of 500| port hardy\n",
      "Processing Record 418 of 500| urumqi\n",
      "Processing Record 419 of 500| bulgan\n",
      "Processing Record 420 of 500| rikitea\n",
      "Processing Record 421 of 500| puerto ayora\n",
      "Processing Record 422 of 500| leningradskiy\n",
      "Processing Record 423 of 500| nikolskoye\n",
      "Processing Record 424 of 500| lompoc\n",
      "Processing Record 425 of 500| ushuaia\n",
      "Processing Record 426 of 500| sangar\n",
      "Processing Record 427 of 500| chokurdakh\n",
      "Processing Record 428 of 500| presidencia roque saenz pena\n",
      "Processing Record 429 of 500| jamestown\n",
      "Processing Record 430 of 500| rikitea\n",
      "Processing Record 431 of 500| rikitea\n",
      "Processing Record 432 of 500| thompson\n",
      "Processing Record 433 of 500| takoradi\n",
      "Processing Record 434 of 500| faanui\n",
      "Processing Record 435 of 500| geraldton\n",
      "Processing Record 436 of 500| port-cartier\n",
      "Processing Record 437 of 500| busselton\n",
      "Processing Record 438 of 500| ushuaia\n",
      "Processing Record 439 of 500| puerto ayora\n",
      "Processing Record 440 of 500| sarkand\n",
      "Processing Record 441 of 500| hilo\n",
      "Processing Record 442 of 500| mayor pablo lagerenza\n",
      "Processing Record 443 of 500| barentsburg\n",
      "Processing Record 444 of 500| vaitupu\n",
      "Processing Record 445 of 500| rikitea\n",
      "Processing Record 446 of 500| asfi\n",
      "Processing Record 447 of 500| punta arenas\n",
      "Processing Record 448 of 500| saint anthony\n",
      "Processing Record 449 of 500| puerto armuelles\n",
      "Processing Record 450 of 500| castro\n",
      "Processing Record 451 of 500| grand island\n",
      "Processing Record 452 of 500| ushuaia\n",
      "Processing Record 453 of 500| illoqqortoormiut\n",
      "Processing Record 454 of 500| san quintin\n",
      "Processing Record 455 of 500| kerki\n",
      "Processing Record 456 of 500| ponta do sol\n",
      "Processing Record 457 of 500| saldanha\n",
      "Processing Record 458 of 500| bluff\n",
      "Processing Record 459 of 500| isangel\n",
      "Processing Record 460 of 500| avarua\n",
      "Processing Record 461 of 500| bredasdorp\n",
      "Processing Record 462 of 500| castro\n",
      "Processing Record 463 of 500| yeppoon\n",
      "Processing Record 464 of 500| vaini\n",
      "Processing Record 465 of 500| albany\n",
      "Processing Record 466 of 500| sorland\n",
      "Processing Record 467 of 500| quatre cocos\n",
      "Processing Record 468 of 500| bintulu\n",
      "Processing Record 469 of 500| amderma\n",
      "Processing Record 470 of 500| itarema\n",
      "Processing Record 471 of 500| barentsburg\n",
      "Processing Record 472 of 500| tuktoyaktuk\n",
      "Processing Record 473 of 500| kapaa\n",
      "Processing Record 474 of 500| port lincoln\n",
      "Processing Record 475 of 500| rikitea\n",
      "Processing Record 476 of 500| esmeraldas\n",
      "Processing Record 477 of 500| rikitea\n",
      "Processing Record 478 of 500| ushuaia\n",
      "Processing Record 479 of 500| northam\n",
      "Processing Record 480 of 500| khatanga\n",
      "Processing Record 481 of 500| jamestown\n",
      "Processing Record 482 of 500| ushuaia\n",
      "Processing Record 483 of 500| gat\n",
      "Processing Record 484 of 500| souillac\n",
      "Processing Record 485 of 500| taolanaro\n",
      "Processing Record 486 of 500| nizhniy kuranakh\n",
      "Processing Record 487 of 500| bluff\n",
      "Processing Record 488 of 500| barentsburg\n",
      "Processing Record 489 of 500| mataura\n",
      "Processing Record 490 of 500| korem\n",
      "Processing Record 491 of 500| hilo\n",
      "Processing Record 492 of 500| nemuro\n",
      "Processing Record 493 of 500| nador\n",
      "Processing Record 494 of 500| esperance\n",
      "Processing Record 495 of 500| rikitea\n",
      "Processing Record 496 of 500| rikitea\n",
      "Processing Record 497 of 500| vaitupu\n",
      "Processing Record 498 of 500| tuktoyaktuk\n",
      "Processing Record 499 of 500| ribnitz-damgarten\n",
      "Processing Record 500 of 500| rikitea\n"
     ]
    }
   ],
   "source": [
    "bot = 0\n",
    "for x in range(len(city_list)):\n",
    "    bot = bot + 1\n",
    "    response = requests.get(query_url + city_list[x]).json()\n",
    "    print(f\"Processing Record {bot} of 500| {city_list[x]}\")"
   ]
  },
  {
   "cell_type": "markdown",
   "metadata": {},
   "source": [
    "### Convert Raw Data to DataFrame\n",
    "* Export the city data into a .csv.\n",
    "* Display the DataFrame"
   ]
  },
  {
   "cell_type": "code",
   "execution_count": 17,
   "metadata": {},
   "outputs": [
    {
     "data": {
      "text/plain": [
       "dict_keys(['coord', 'weather', 'base', 'main', 'wind', 'clouds', 'dt', 'sys', 'id', 'name', 'cod'])"
      ]
     },
     "execution_count": 17,
     "metadata": {},
     "output_type": "execute_result"
    }
   ],
   "source": [
    "response.keys()"
   ]
  },
  {
   "cell_type": "code",
   "execution_count": 18,
   "metadata": {},
   "outputs": [
    {
     "data": {
      "text/plain": [
       "('Rikitea', 56, 'PF', 1554058629, 100, -23.12, -134.97, 76.66, 19.48)"
      ]
     },
     "execution_count": 18,
     "metadata": {},
     "output_type": "execute_result"
    }
   ],
   "source": [
    "response['name'],response['clouds']['all'],response['sys']['country'],response['dt'],response['main']['humidity'],response['coord']['lat'],response['coord']['lon'],response['main']['temp_max'],response['wind']['speed']"
   ]
  },
  {
   "cell_type": "code",
   "execution_count": 19,
   "metadata": {},
   "outputs": [
    {
     "name": "stdout",
     "output_type": "stream",
     "text": [
      "Done\n"
     ]
    }
   ],
   "source": [
    "city1 = []\n",
    "cloudiness1 = []\n",
    "country1 = []\n",
    "date = []\n",
    "humidity = []\n",
    "lat = []\n",
    "lng = []\n",
    "max_temp = []\n",
    "wind_speed = []\n",
    "\n",
    "for x in range(500):\n",
    "    try:\n",
    "        response = requests.get(query_url + city_list[x]).json()\n",
    "        tname = response['name']\n",
    "        tcloudiness = response['clouds']['all']\n",
    "        tcountry = response['sys']['country']\n",
    "        tdate = response['dt']\n",
    "        thumidity = response['main']['humidity']\n",
    "        tlat = response['coord']['lat']\n",
    "        tlng = response['coord']['lon']\n",
    "        tmaxtemp = response['main']['temp_max']\n",
    "        twindspeed = response['wind']['speed']\n",
    "        city1.append(tname)\n",
    "        cloudiness1.append(tcloudiness)\n",
    "        country1.append(tcountry)\n",
    "        date.append(tdate)\n",
    "        humidity.append(thumidity)\n",
    "        lat.append(tlat)\n",
    "        lng.append(tlng)\n",
    "        max_temp.append(tmaxtemp)\n",
    "        wind_speed.append(twindspeed)\n",
    "    except KeyError:\n",
    "        response = \"\"\n",
    "        tname = city_list[x]\n",
    "        tcloudiness = 0\n",
    "        tcountry = \"N/A\"\n",
    "        tdate = \"\"\n",
    "        thumidity = 0\n",
    "        tlat = 0\n",
    "        tlng = 0\n",
    "        tmaxtemp = 0\n",
    "        twindspeed = 0\n",
    "        city1.append(tname)\n",
    "        cloudiness1.append(tcloudiness)\n",
    "        country1.append(tcountry)\n",
    "        date.append(tdate)\n",
    "        humidity.append(thumidity)\n",
    "        lat.append(tlat)\n",
    "        lng.append(tlng)\n",
    "        max_temp.append(tmaxtemp)\n",
    "        wind_speed.append(twindspeed)\n",
    "print(\"Done\")"
   ]
  },
  {
   "cell_type": "code",
   "execution_count": 20,
   "metadata": {},
   "outputs": [
    {
     "name": "stdout",
     "output_type": "stream",
     "text": [
      "500\n"
     ]
    }
   ],
   "source": [
    "print(len(city1))"
   ]
  },
  {
   "cell_type": "code",
   "execution_count": 21,
   "metadata": {},
   "outputs": [
    {
     "data": {
      "text/html": [
       "<div>\n",
       "<style scoped>\n",
       "    .dataframe tbody tr th:only-of-type {\n",
       "        vertical-align: middle;\n",
       "    }\n",
       "\n",
       "    .dataframe tbody tr th {\n",
       "        vertical-align: top;\n",
       "    }\n",
       "\n",
       "    .dataframe thead th {\n",
       "        text-align: right;\n",
       "    }\n",
       "</style>\n",
       "<table border=\"1\" class=\"dataframe\">\n",
       "  <thead>\n",
       "    <tr style=\"text-align: right;\">\n",
       "      <th></th>\n",
       "      <th>City</th>\n",
       "      <th>Cloudiness</th>\n",
       "      <th>Country</th>\n",
       "      <th>Date</th>\n",
       "      <th>Humidity</th>\n",
       "      <th>Lat</th>\n",
       "      <th>Lng</th>\n",
       "      <th>Max Temp</th>\n",
       "      <th>Wind Speed</th>\n",
       "    </tr>\n",
       "  </thead>\n",
       "  <tbody>\n",
       "    <tr>\n",
       "      <th>0</th>\n",
       "      <td>Busselton</td>\n",
       "      <td>88</td>\n",
       "      <td>AU</td>\n",
       "      <td>1554058552</td>\n",
       "      <td>36</td>\n",
       "      <td>-33.64</td>\n",
       "      <td>115.35</td>\n",
       "      <td>69.01</td>\n",
       "      <td>7.74</td>\n",
       "    </tr>\n",
       "    <tr>\n",
       "      <th>1</th>\n",
       "      <td>Chuy</td>\n",
       "      <td>0</td>\n",
       "      <td>UY</td>\n",
       "      <td>1554058607</td>\n",
       "      <td>93</td>\n",
       "      <td>-33.69</td>\n",
       "      <td>-53.46</td>\n",
       "      <td>77.20</td>\n",
       "      <td>8.19</td>\n",
       "    </tr>\n",
       "    <tr>\n",
       "      <th>2</th>\n",
       "      <td>Vaini</td>\n",
       "      <td>0</td>\n",
       "      <td>IN</td>\n",
       "      <td>1554058574</td>\n",
       "      <td>83</td>\n",
       "      <td>15.34</td>\n",
       "      <td>74.49</td>\n",
       "      <td>72.70</td>\n",
       "      <td>3.38</td>\n",
       "    </tr>\n",
       "    <tr>\n",
       "      <th>3</th>\n",
       "      <td>Makakilo City</td>\n",
       "      <td>1</td>\n",
       "      <td>US</td>\n",
       "      <td>1554058532</td>\n",
       "      <td>73</td>\n",
       "      <td>21.35</td>\n",
       "      <td>-158.09</td>\n",
       "      <td>75.00</td>\n",
       "      <td>3.36</td>\n",
       "    </tr>\n",
       "    <tr>\n",
       "      <th>4</th>\n",
       "      <td>Kizema</td>\n",
       "      <td>92</td>\n",
       "      <td>RU</td>\n",
       "      <td>1554058608</td>\n",
       "      <td>92</td>\n",
       "      <td>61.11</td>\n",
       "      <td>44.83</td>\n",
       "      <td>29.95</td>\n",
       "      <td>7.85</td>\n",
       "    </tr>\n",
       "    <tr>\n",
       "      <th>5</th>\n",
       "      <td>Hermanus</td>\n",
       "      <td>12</td>\n",
       "      <td>ZA</td>\n",
       "      <td>1554057954</td>\n",
       "      <td>96</td>\n",
       "      <td>-34.42</td>\n",
       "      <td>19.24</td>\n",
       "      <td>60.01</td>\n",
       "      <td>1.99</td>\n",
       "    </tr>\n",
       "    <tr>\n",
       "      <th>6</th>\n",
       "      <td>Awjilah</td>\n",
       "      <td>0</td>\n",
       "      <td>LY</td>\n",
       "      <td>1554058609</td>\n",
       "      <td>37</td>\n",
       "      <td>29.14</td>\n",
       "      <td>21.30</td>\n",
       "      <td>63.07</td>\n",
       "      <td>10.42</td>\n",
       "    </tr>\n",
       "    <tr>\n",
       "      <th>7</th>\n",
       "      <td>Qasigiannguit</td>\n",
       "      <td>75</td>\n",
       "      <td>GL</td>\n",
       "      <td>1554054600</td>\n",
       "      <td>61</td>\n",
       "      <td>68.82</td>\n",
       "      <td>-51.19</td>\n",
       "      <td>17.60</td>\n",
       "      <td>13.87</td>\n",
       "    </tr>\n",
       "    <tr>\n",
       "      <th>8</th>\n",
       "      <td>Lensk</td>\n",
       "      <td>0</td>\n",
       "      <td>RU</td>\n",
       "      <td>1554058609</td>\n",
       "      <td>67</td>\n",
       "      <td>60.71</td>\n",
       "      <td>114.91</td>\n",
       "      <td>13.66</td>\n",
       "      <td>3.71</td>\n",
       "    </tr>\n",
       "    <tr>\n",
       "      <th>9</th>\n",
       "      <td>Bluff</td>\n",
       "      <td>0</td>\n",
       "      <td>AU</td>\n",
       "      <td>1554058610</td>\n",
       "      <td>62</td>\n",
       "      <td>-23.58</td>\n",
       "      <td>149.07</td>\n",
       "      <td>54.61</td>\n",
       "      <td>9.42</td>\n",
       "    </tr>\n",
       "  </tbody>\n",
       "</table>\n",
       "</div>"
      ],
      "text/plain": [
       "            City  Cloudiness Country        Date  Humidity    Lat     Lng  \\\n",
       "0      Busselton          88      AU  1554058552        36 -33.64  115.35   \n",
       "1           Chuy           0      UY  1554058607        93 -33.69  -53.46   \n",
       "2          Vaini           0      IN  1554058574        83  15.34   74.49   \n",
       "3  Makakilo City           1      US  1554058532        73  21.35 -158.09   \n",
       "4         Kizema          92      RU  1554058608        92  61.11   44.83   \n",
       "5       Hermanus          12      ZA  1554057954        96 -34.42   19.24   \n",
       "6        Awjilah           0      LY  1554058609        37  29.14   21.30   \n",
       "7  Qasigiannguit          75      GL  1554054600        61  68.82  -51.19   \n",
       "8          Lensk           0      RU  1554058609        67  60.71  114.91   \n",
       "9          Bluff           0      AU  1554058610        62 -23.58  149.07   \n",
       "\n",
       "   Max Temp  Wind Speed  \n",
       "0     69.01        7.74  \n",
       "1     77.20        8.19  \n",
       "2     72.70        3.38  \n",
       "3     75.00        3.36  \n",
       "4     29.95        7.85  \n",
       "5     60.01        1.99  \n",
       "6     63.07       10.42  \n",
       "7     17.60       13.87  \n",
       "8     13.66        3.71  \n",
       "9     54.61        9.42  "
      ]
     },
     "execution_count": 21,
     "metadata": {},
     "output_type": "execute_result"
    }
   ],
   "source": [
    "df = pd.DataFrame({\n",
    "    \"City\": city1,\n",
    "    \"Cloudiness\": cloudiness1,\n",
    "    \"Country\" : country1,\n",
    "    \"Date\" : date,\n",
    "    \"Humidity\" : humidity,\n",
    "    \"Lat\" : lat,\n",
    "    \"Lng\" : lng,\n",
    "    \"Max Temp\" : max_temp,\n",
    "    \"Wind Speed\" : wind_speed\n",
    "})\n",
    "\n",
    "df.head(10)"
   ]
  },
  {
   "cell_type": "code",
   "execution_count": 22,
   "metadata": {},
   "outputs": [],
   "source": [
    "df.to_csv(\"Weather Data Frame - Tim\")"
   ]
  },
  {
   "cell_type": "markdown",
   "metadata": {},
   "source": [
    "### Plotting the Data\n",
    "* Use proper labeling of the plots using plot titles (including date of analysis) and axes labels.\n",
    "* Save the plotted figures as .pngs."
   ]
  },
  {
   "cell_type": "markdown",
   "metadata": {},
   "source": [
    "#### Latitude vs. Temperature Plot"
   ]
  },
  {
   "cell_type": "code",
   "execution_count": 23,
   "metadata": {},
   "outputs": [
    {
     "data": {
      "image/png": "[encoded data removed]",
      "text/plain": [
       "<Figure size 432x288 with 1 Axes>"
      ]
     },
     "metadata": {
      "needs_background": "light"
     },
     "output_type": "display_data"
    }
   ],
   "source": [
    "x = df['Lat']\n",
    "y = df['Max Temp']\n",
    "LatTemp = plt.scatter(x, y)\n",
    "plt.title(\"Lattitude vs. Temperature Plot\")\n",
    "plt.xlabel(\"Lattitude\")\n",
    "plt.ylabel(\"Max Temperature in (F)\")\n",
    "plt.show()"
   ]
  },
  {
   "cell_type": "code",
   "execution_count": 24,
   "metadata": {},
   "outputs": [
    {
     "data": {
      "text/plain": [
       "<Figure size 432x288 with 0 Axes>"
      ]
     },
     "metadata": {},
     "output_type": "display_data"
    }
   ],
   "source": [
    "plt.savefig('lat and temp.png')"
   ]
  },
  {
   "cell_type": "code",
   "execution_count": null,
   "metadata": {},
   "outputs": [],
   "source": [
    "#Observation 1 - Temperatures are higher in cities closer to the equator."
   ]
  },
  {
   "cell_type": "markdown",
   "metadata": {},
   "source": [
    "#### Latitude vs. Humidity Plot"
   ]
  },
  {
   "cell_type": "code",
   "execution_count": 22,
   "metadata": {},
   "outputs": [
    {
     "data": {
      "image/png": "[encoded data removed]",
      "text/plain": [
       "<Figure size 432x288 with 1 Axes>"
      ]
     },
     "metadata": {
      "needs_background": "light"
     },
     "output_type": "display_data"
    }
   ],
   "source": [
    "x = df['Lat']\n",
    "y = df['Humidity']\n",
    "LatTemp = plt.scatter(x, y)\n",
    "plt.title(\"Lattitude vs. Humidity Plot\")\n",
    "plt.xlabel(\"Lattitude\")\n",
    "plt.ylabel(\"Humidity in %\")\n",
    "plt.show()"
   ]
  },
  {
   "cell_type": "code",
   "execution_count": 25,
   "metadata": {},
   "outputs": [
    {
     "data": {
      "text/plain": [
       "<Figure size 432x288 with 0 Axes>"
      ]
     },
     "metadata": {},
     "output_type": "display_data"
    }
   ],
   "source": [
    "plt.savefig('lat and humidity.png')"
   ]
  },
  {
   "cell_type": "code",
   "execution_count": null,
   "metadata": {},
   "outputs": [],
   "source": []
  },
  {
   "cell_type": "markdown",
   "metadata": {},
   "source": [
    "#### Latitude vs. Cloudiness Plot"
   ]
  },
  {
   "cell_type": "code",
   "execution_count": 26,
   "metadata": {},
   "outputs": [
    {
     "data": {
      "image/png": "[encoded data removed]",
      "text/plain": [
       "<Figure size 432x288 with 1 Axes>"
      ]
     },
     "metadata": {
      "needs_background": "light"
     },
     "output_type": "display_data"
    }
   ],
   "source": [
    "x = df['Lat']\n",
    "y = df['Cloudiness']\n",
    "LatTemp = plt.scatter(x, y)\n",
    "plt.title(\"Lattitude vs. Cloudiness Plot\")\n",
    "plt.xlabel(\"Lattitude\")\n",
    "plt.ylabel(\"Cloudiness\")\n",
    "plt.show()"
   ]
  },
  {
   "cell_type": "code",
   "execution_count": 27,
   "metadata": {},
   "outputs": [
    {
     "data": {
      "text/plain": [
       "<Figure size 432x288 with 0 Axes>"
      ]
     },
     "metadata": {},
     "output_type": "display_data"
    }
   ],
   "source": [
    "plt.savefig('lat and cloud.png')"
   ]
  },
  {
   "cell_type": "code",
   "execution_count": null,
   "metadata": {},
   "outputs": [],
   "source": [
    "#Observation 3 - It is generally less cloudy overall. "
   ]
  },
  {
   "cell_type": "markdown",
   "metadata": {},
   "source": [
    "#### Latitude vs. Wind Speed Plot"
   ]
  },
  {
   "cell_type": "code",
   "execution_count": 28,
   "metadata": {},
   "outputs": [
    {
     "data": {
      "image/png": "[encoded data removed]",
      "text/plain": [
       "<Figure size 432x288 with 1 Axes>"
      ]
     },
     "metadata": {
      "needs_background": "light"
     },
     "output_type": "display_data"
    }
   ],
   "source": [
    "x = df['Lat']\n",
    "y = df['Wind Speed']\n",
    "LatTemp = plt.scatter(x, y)\n",
    "plt.title(\"Lattitude vs. Wind Speed Plot\")\n",
    "plt.xlabel(\"Lattitude\")\n",
    "plt.ylabel(\"Wind Speed (mph)\")\n",
    "plt.show()"
   ]
  },
  {
   "cell_type": "code",
   "execution_count": 29,
   "metadata": {},
   "outputs": [
    {
     "data": {
      "text/plain": [
       "<Figure size 432x288 with 0 Axes>"
      ]
     },
     "metadata": {},
     "output_type": "display_data"
    }
   ],
   "source": [
    "plt.savefig('lat and wind.png')"
   ]
  },
  {
   "cell_type": "code",
   "execution_count": null,
   "metadata": {},
   "outputs": [],
   "source": [
    "#Observation 2 - Wind speed is generally between 3 and 10 miles per hour."
   ]
  }
 ],
 "metadata": {
  "anaconda-cloud": {},
  "kernel_info": {
   "name": "python3"
  },
  "kernelspec": {
   "display_name": "Python 3",
   "language": "python",
   "name": "python3"
  },
  "language_info": {
   "codemirror_mode": {
    "name": "ipython",
    "version": 3
   },
   "file_extension": ".py",
   "mimetype": "text/x-python",
   "name": "python",
   "nbconvert_exporter": "python",
   "pygments_lexer": "ipython3",
   "version": "3.7.1"
  },
  "nteract": {
   "version": "0.12.3"
  }
 },
 "nbformat": 4,
 "nbformat_minor": 2
}
